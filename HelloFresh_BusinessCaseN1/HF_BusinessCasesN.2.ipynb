{
 "cells": [
  {
   "cell_type": "code",
   "execution_count": 1,
   "id": "44154e87",
   "metadata": {},
   "outputs": [],
   "source": [
    "import pandas as pd"
   ]
  },
  {
   "cell_type": "code",
   "execution_count": 7,
   "id": "2e7ac26e",
   "metadata": {},
   "outputs": [],
   "source": [
    "df = pd.read_excel(\"HelloFresh_Dataset.xlsx\")"
   ]
  },
  {
   "cell_type": "code",
   "execution_count": 8,
   "id": "4902ead7",
   "metadata": {},
   "outputs": [
    {
     "data": {
      "text/html": [
       "<div>\n",
       "<style scoped>\n",
       "    .dataframe tbody tr th:only-of-type {\n",
       "        vertical-align: middle;\n",
       "    }\n",
       "\n",
       "    .dataframe tbody tr th {\n",
       "        vertical-align: top;\n",
       "    }\n",
       "\n",
       "    .dataframe thead th {\n",
       "        text-align: right;\n",
       "    }\n",
       "</style>\n",
       "<table border=\"1\" class=\"dataframe\">\n",
       "  <thead>\n",
       "    <tr style=\"text-align: right;\">\n",
       "      <th></th>\n",
       "      <th>Pause Week</th>\n",
       "      <th>Platform</th>\n",
       "      <th>Theme</th>\n",
       "      <th>Sub Theme</th>\n",
       "      <th>Comment count</th>\n",
       "    </tr>\n",
       "  </thead>\n",
       "  <tbody>\n",
       "    <tr>\n",
       "      <th>0</th>\n",
       "      <td>W25</td>\n",
       "      <td>Website</td>\n",
       "      <td>Price</td>\n",
       "      <td>Extra charge for recipes I like</td>\n",
       "      <td>1.0</td>\n",
       "    </tr>\n",
       "    <tr>\n",
       "      <th>1</th>\n",
       "      <td>W26</td>\n",
       "      <td>Website</td>\n",
       "      <td>Price</td>\n",
       "      <td>Extra charge for recipes I like</td>\n",
       "      <td>1.0</td>\n",
       "    </tr>\n",
       "    <tr>\n",
       "      <th>2</th>\n",
       "      <td>W26</td>\n",
       "      <td>Website</td>\n",
       "      <td>Price</td>\n",
       "      <td>Extra charge for recipes I like</td>\n",
       "      <td>1.0</td>\n",
       "    </tr>\n",
       "    <tr>\n",
       "      <th>3</th>\n",
       "      <td>W26</td>\n",
       "      <td>Website</td>\n",
       "      <td>Price</td>\n",
       "      <td>Extra charge for recipes I like</td>\n",
       "      <td>1.0</td>\n",
       "    </tr>\n",
       "    <tr>\n",
       "      <th>4</th>\n",
       "      <td>W26</td>\n",
       "      <td>Website</td>\n",
       "      <td>Price</td>\n",
       "      <td>Extra charge for recipes I like</td>\n",
       "      <td>1.0</td>\n",
       "    </tr>\n",
       "    <tr>\n",
       "      <th>...</th>\n",
       "      <td>...</td>\n",
       "      <td>...</td>\n",
       "      <td>...</td>\n",
       "      <td>...</td>\n",
       "      <td>...</td>\n",
       "    </tr>\n",
       "    <tr>\n",
       "      <th>3540</th>\n",
       "      <td>W26</td>\n",
       "      <td>Website</td>\n",
       "      <td>Too many of/ Don't like certain ingredients</td>\n",
       "      <td>Mushrooms</td>\n",
       "      <td>1.0</td>\n",
       "    </tr>\n",
       "    <tr>\n",
       "      <th>3541</th>\n",
       "      <td>W26</td>\n",
       "      <td>Website</td>\n",
       "      <td>Too many of/ Don't like certain ingredients</td>\n",
       "      <td>Mushrooms</td>\n",
       "      <td>1.0</td>\n",
       "    </tr>\n",
       "    <tr>\n",
       "      <th>3542</th>\n",
       "      <td>W26</td>\n",
       "      <td>Website</td>\n",
       "      <td>Too many of/ Don't like certain ingredients</td>\n",
       "      <td>Mushrooms</td>\n",
       "      <td>1.0</td>\n",
       "    </tr>\n",
       "    <tr>\n",
       "      <th>3543</th>\n",
       "      <td>W26</td>\n",
       "      <td>Website</td>\n",
       "      <td>Too many of/ Don't like certain ingredients</td>\n",
       "      <td>Mushrooms</td>\n",
       "      <td>1.0</td>\n",
       "    </tr>\n",
       "    <tr>\n",
       "      <th>3544</th>\n",
       "      <td>W26</td>\n",
       "      <td>Website</td>\n",
       "      <td>Too many of/ Don't like certain ingredients</td>\n",
       "      <td>Rice/ Bulgur/ Couscous</td>\n",
       "      <td>1.0</td>\n",
       "    </tr>\n",
       "  </tbody>\n",
       "</table>\n",
       "<p>3545 rows × 5 columns</p>\n",
       "</div>"
      ],
      "text/plain": [
       "     Pause Week Platform                                        Theme  \\\n",
       "0           W25  Website                                        Price   \n",
       "1           W26  Website                                        Price   \n",
       "2           W26  Website                                        Price   \n",
       "3           W26  Website                                        Price   \n",
       "4           W26  Website                                        Price   \n",
       "...         ...      ...                                          ...   \n",
       "3540        W26  Website  Too many of/ Don't like certain ingredients   \n",
       "3541        W26  Website  Too many of/ Don't like certain ingredients   \n",
       "3542        W26  Website  Too many of/ Don't like certain ingredients   \n",
       "3543        W26  Website  Too many of/ Don't like certain ingredients   \n",
       "3544        W26  Website  Too many of/ Don't like certain ingredients   \n",
       "\n",
       "                            Sub Theme  Comment count  \n",
       "0     Extra charge for recipes I like            1.0  \n",
       "1     Extra charge for recipes I like            1.0  \n",
       "2     Extra charge for recipes I like            1.0  \n",
       "3     Extra charge for recipes I like            1.0  \n",
       "4     Extra charge for recipes I like            1.0  \n",
       "...                               ...            ...  \n",
       "3540                        Mushrooms            1.0  \n",
       "3541                        Mushrooms            1.0  \n",
       "3542                        Mushrooms            1.0  \n",
       "3543                        Mushrooms            1.0  \n",
       "3544           Rice/ Bulgur/ Couscous            1.0  \n",
       "\n",
       "[3545 rows x 5 columns]"
      ]
     },
     "execution_count": 8,
     "metadata": {},
     "output_type": "execute_result"
    }
   ],
   "source": [
    "df"
   ]
  },
  {
   "cell_type": "code",
   "execution_count": 9,
   "id": "29e26458",
   "metadata": {},
   "outputs": [
    {
     "data": {
      "text/plain": [
       "Index(['Pause Week', 'Platform', 'Theme', 'Sub Theme', 'Comment count'], dtype='object')"
      ]
     },
     "execution_count": 9,
     "metadata": {},
     "output_type": "execute_result"
    }
   ],
   "source": [
    "df.columns"
   ]
  },
  {
   "cell_type": "code",
   "execution_count": 10,
   "id": "e6352559",
   "metadata": {},
   "outputs": [],
   "source": [
    "null_values = df.isnull().sum()"
   ]
  },
  {
   "cell_type": "code",
   "execution_count": 11,
   "id": "e7469edf",
   "metadata": {},
   "outputs": [
    {
     "data": {
      "text/plain": [
       "Pause Week       0\n",
       "Platform         0\n",
       "Theme            0\n",
       "Sub Theme        0\n",
       "Comment count    5\n",
       "dtype: int64"
      ]
     },
     "execution_count": 11,
     "metadata": {},
     "output_type": "execute_result"
    }
   ],
   "source": [
    "null_values"
   ]
  },
  {
   "cell_type": "code",
   "execution_count": null,
   "id": "d868ee1f",
   "metadata": {},
   "outputs": [],
   "source": []
  }
 ],
 "metadata": {
  "kernelspec": {
   "display_name": "Python 3 (ipykernel)",
   "language": "python",
   "name": "python3"
  },
  "language_info": {
   "codemirror_mode": {
    "name": "ipython",
    "version": 3
   },
   "file_extension": ".py",
   "mimetype": "text/x-python",
   "name": "python",
   "nbconvert_exporter": "python",
   "pygments_lexer": "ipython3",
   "version": "3.9.13"
  }
 },
 "nbformat": 4,
 "nbformat_minor": 5
}
